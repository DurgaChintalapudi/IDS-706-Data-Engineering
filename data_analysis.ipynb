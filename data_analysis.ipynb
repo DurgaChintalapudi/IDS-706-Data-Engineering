{
 "cells": [
  {
   "cell_type": "code",
   "execution_count": 1,
   "metadata": {},
   "outputs": [],
   "source": [
    "import databricks.sql as sql"
   ]
  },
  {
   "cell_type": "code",
   "execution_count": 2,
   "metadata": {},
   "outputs": [
    {
     "name": "stdout",
     "output_type": "stream",
     "text": [
      "[Row(max(WITHDRAWAL_AMT)=459447552.0), Row(max(WITHDRAWAL_AMT)=400000000.0), Row(max(WITHDRAWAL_AMT)=354000000.0), Row(max(WITHDRAWAL_AMT)=240000000.0), Row(max(WITHDRAWAL_AMT)=170000000.0), Row(max(WITHDRAWAL_AMT)=150000000.0), Row(max(WITHDRAWAL_AMT)=141366240.0), Row(max(WITHDRAWAL_AMT)=15000000.0), Row(max(WITHDRAWAL_AMT)=2500000.0), Row(max(WITHDRAWAL_AMT)=912000.0)]\n"
     ]
    }
   ],
   "source": [
    "with sql.connect(\n",
    "    server_hostname=os.getenv(\"DATABRICKS_SERVER_HOSTNAME\"),\n",
    "    http_path=os.getenv(\"DATABRICKS_HTTP_PATH\"),\n",
    "    access_token=os.getenv(\"DATABRICKS_TOKEN\"),\n",
    ") as connection:\n",
    "\n",
    "    with connection.cursor() as cursor:\n",
    "        cursor.execute(\"SELECT MAX(WITHDRAWAL_AMT) FROM default.transaction group by ACCOUNT_NO order by MAX(WITHDRAWAL_AMT) desc limit 10\")\n",
    "        result = cursor.fetchall()\n",
    "\n",
    "        \n",
    "\n",
    "    with connection.cursor() as cursor:\n",
    "        cursor.execute(\"describe default.transaction\")\n",
    "        result1 = cursor.fetchall()\n",
    "\n",
    "        print(result)"
   ]
  },
  {
   "cell_type": "code",
   "execution_count": 4,
   "metadata": {},
   "outputs": [
    {
     "name": "stdout",
     "output_type": "stream",
     "text": [
      "Row(max(WITHDRAWAL_AMT)=459447552.0)\n",
      "Row(max(WITHDRAWAL_AMT)=400000000.0)\n",
      "Row(max(WITHDRAWAL_AMT)=354000000.0)\n",
      "Row(max(WITHDRAWAL_AMT)=240000000.0)\n",
      "Row(max(WITHDRAWAL_AMT)=170000000.0)\n",
      "Row(max(WITHDRAWAL_AMT)=150000000.0)\n",
      "Row(max(WITHDRAWAL_AMT)=141366240.0)\n",
      "Row(max(WITHDRAWAL_AMT)=15000000.0)\n",
      "Row(max(WITHDRAWAL_AMT)=2500000.0)\n",
      "Row(max(WITHDRAWAL_AMT)=912000.0)\n",
      "[Row(max(WITHDRAWAL_AMT)=459447552.0), Row(max(WITHDRAWAL_AMT)=400000000.0), Row(max(WITHDRAWAL_AMT)=354000000.0), Row(max(WITHDRAWAL_AMT)=240000000.0), Row(max(WITHDRAWAL_AMT)=170000000.0), Row(max(WITHDRAWAL_AMT)=150000000.0), Row(max(WITHDRAWAL_AMT)=141366240.0), Row(max(WITHDRAWAL_AMT)=15000000.0), Row(max(WITHDRAWAL_AMT)=2500000.0), Row(max(WITHDRAWAL_AMT)=912000.0)]\n"
     ]
    }
   ],
   "source": [
    "from dblib.connector import querydb\n",
    "\n",
    "result=querydb(\"SELECT MAX(WITHDRAWAL_AMT) FROM default.transaction group by ACCOUNT_NO order by MAX(WITHDRAWAL_AMT) desc limit 10\")\n",
    "print(result)"
   ]
  }
 ],
 "metadata": {
  "kernelspec": {
   "display_name": "Python 3.10.6 ('.venv')",
   "language": "python",
   "name": "python3"
  },
  "language_info": {
   "codemirror_mode": {
    "name": "ipython",
    "version": 3
   },
   "file_extension": ".py",
   "mimetype": "text/x-python",
   "name": "python",
   "nbconvert_exporter": "python",
   "pygments_lexer": "ipython3",
   "version": "3.10.6"
  },
  "orig_nbformat": 4,
  "vscode": {
   "interpreter": {
    "hash": "ac6dcd399ab8cd2ecc0f6e8f154efd75b4aa37c8093b73598011b1aae01f02fe"
   }
  }
 },
 "nbformat": 4,
 "nbformat_minor": 2
}
