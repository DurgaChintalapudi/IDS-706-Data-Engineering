{
 "cells": [
  {
   "cell_type": "code",
   "execution_count": 1,
   "metadata": {},
   "outputs": [
    {
     "name": "stdout",
     "output_type": "stream",
     "text": [
      "22/09/18 00:01:46 WARN Utils: Your hostname, codespaces-a3c1af resolves to a loopback address: 127.0.0.1; using 172.16.5.4 instead (on interface eth0)\n",
      "22/09/18 00:01:46 WARN Utils: Set SPARK_LOCAL_IP if you need to bind to another address\n"
     ]
    },
    {
     "name": "stderr",
     "output_type": "stream",
     "text": [
      "Setting default log level to \"WARN\".\n",
      "To adjust logging level use sc.setLogLevel(newLevel). For SparkR, use setLogLevel(newLevel).\n"
     ]
    },
    {
     "name": "stdout",
     "output_type": "stream",
     "text": [
      "22/09/18 00:01:47 WARN NativeCodeLoader: Unable to load native-hadoop library for your platform... using builtin-java classes where applicable\n"
     ]
    }
   ],
   "source": [
    "import pyspark\n",
    "from pyspark.sql import SparkSession\n",
    "spark = SparkSession.builder.getOrCreate()\n",
    "from pyspark.sql.functions import *"
   ]
  },
  {
   "cell_type": "code",
   "execution_count": null,
   "metadata": {},
   "outputs": [],
   "source": []
  },
  {
   "cell_type": "code",
   "execution_count": 2,
   "metadata": {},
   "outputs": [
    {
     "name": "stdout",
     "output_type": "stream",
     "text": [
      "root\n",
      " |-- Customer_ID: string (nullable = true)\n",
      " |-- Age: integer (nullable = true)\n",
      " |-- Gender: string (nullable = true)\n",
      " |-- Occupation: string (nullable = true)\n",
      " |-- Marital Status: string (nullable = true)\n",
      " |-- Family Size: integer (nullable = true)\n",
      " |-- Income: integer (nullable = true)\n",
      " |-- Expenditure: integer (nullable = true)\n",
      " |-- Use Frequency: integer (nullable = true)\n",
      " |-- Loan Category: string (nullable = true)\n",
      " |-- Loan Amount: string (nullable = true)\n",
      " |-- Overdue: integer (nullable = true)\n",
      " |--  Debt Record: string (nullable = true)\n",
      " |--  Returned Cheque: integer (nullable = true)\n",
      " |--  Dishonour of Bill: integer (nullable = true)\n",
      "\n"
     ]
    }
   ],
   "source": [
    "df = spark.read.csv(\"/workspaces/DE-Project-Repo-Durga/data/loan.csv\", inferSchema = True, header = True)\n",
    "df.printSchema()"
   ]
  },
  {
   "cell_type": "code",
   "execution_count": 3,
   "metadata": {},
   "outputs": [
    {
     "name": "stderr",
     "output_type": "stream",
     "text": [
      "WARNING:root:'PYARROW_IGNORE_TIMEZONE' environment variable was not set. It is required to set this environment variable to '1' in both driver and executor sides if you use pyarrow>=2.0.0. pandas-on-Spark will set it for you but it does not work if there is a Spark context already launched.\n"
     ]
    }
   ],
   "source": [
    "import pyarrow as pa\n",
    "import pyspark.pandas as ps"
   ]
  },
  {
   "cell_type": "code",
   "execution_count": 4,
   "metadata": {},
   "outputs": [
    {
     "name": "stderr",
     "output_type": "stream",
     "text": [
      "/home/vscode/.local/lib/python3.10/site-packages/pyspark/pandas/utils.py:975: PandasAPIOnSparkAdviceWarning: If `index_col` is not specified for `read_csv`, the default index is attached which can cause additional overhead.\n",
      "  warnings.warn(message, PandasAPIOnSparkAdviceWarning)\n"
     ]
    },
    {
     "data": {
      "text/html": [
       "<div>\n",
       "<style scoped>\n",
       "    .dataframe tbody tr th:only-of-type {\n",
       "        vertical-align: middle;\n",
       "    }\n",
       "\n",
       "    .dataframe tbody tr th {\n",
       "        vertical-align: top;\n",
       "    }\n",
       "\n",
       "    .dataframe thead th {\n",
       "        text-align: right;\n",
       "    }\n",
       "</style>\n",
       "<table border=\"1\" class=\"dataframe\">\n",
       "  <thead>\n",
       "    <tr style=\"text-align: right;\">\n",
       "      <th></th>\n",
       "      <th>Customer_ID</th>\n",
       "      <th>Age</th>\n",
       "      <th>Gender</th>\n",
       "      <th>Occupation</th>\n",
       "      <th>Marital Status</th>\n",
       "      <th>Family Size</th>\n",
       "      <th>Income</th>\n",
       "      <th>Expenditure</th>\n",
       "      <th>Use Frequency</th>\n",
       "      <th>Loan Category</th>\n",
       "      <th>Loan Amount</th>\n",
       "      <th>Overdue</th>\n",
       "      <th>Debt Record</th>\n",
       "      <th>Returned Cheque</th>\n",
       "      <th>Dishonour of Bill</th>\n",
       "    </tr>\n",
       "  </thead>\n",
       "  <tbody>\n",
       "    <tr>\n",
       "      <th>0</th>\n",
       "      <td>IB14001</td>\n",
       "      <td>30</td>\n",
       "      <td>MALE</td>\n",
       "      <td>BANK MANAGER</td>\n",
       "      <td>SINGLE</td>\n",
       "      <td>4</td>\n",
       "      <td>50000</td>\n",
       "      <td>22199</td>\n",
       "      <td>6</td>\n",
       "      <td>HOUSING</td>\n",
       "      <td>10,00,000</td>\n",
       "      <td>5</td>\n",
       "      <td>42,898</td>\n",
       "      <td>6</td>\n",
       "      <td>9</td>\n",
       "    </tr>\n",
       "    <tr>\n",
       "      <th>1</th>\n",
       "      <td>IB14008</td>\n",
       "      <td>44</td>\n",
       "      <td>MALE</td>\n",
       "      <td>PROFESSOR</td>\n",
       "      <td>MARRIED</td>\n",
       "      <td>6</td>\n",
       "      <td>51000</td>\n",
       "      <td>19999</td>\n",
       "      <td>4</td>\n",
       "      <td>SHOPPING</td>\n",
       "      <td>50,000</td>\n",
       "      <td>3</td>\n",
       "      <td>33,999</td>\n",
       "      <td>1</td>\n",
       "      <td>5</td>\n",
       "    </tr>\n",
       "    <tr>\n",
       "      <th>2</th>\n",
       "      <td>IB14012</td>\n",
       "      <td>30</td>\n",
       "      <td>FEMALE</td>\n",
       "      <td>DENTIST</td>\n",
       "      <td>SINGLE</td>\n",
       "      <td>3</td>\n",
       "      <td>58450</td>\n",
       "      <td>27675</td>\n",
       "      <td>5</td>\n",
       "      <td>TRAVELLING</td>\n",
       "      <td>75,000</td>\n",
       "      <td>6</td>\n",
       "      <td>20,876</td>\n",
       "      <td>3</td>\n",
       "      <td>1</td>\n",
       "    </tr>\n",
       "    <tr>\n",
       "      <th>3</th>\n",
       "      <td>IB14018</td>\n",
       "      <td>29</td>\n",
       "      <td>MALE</td>\n",
       "      <td>TEACHER</td>\n",
       "      <td>MARRIED</td>\n",
       "      <td>5</td>\n",
       "      <td>45767</td>\n",
       "      <td>12787</td>\n",
       "      <td>3</td>\n",
       "      <td>GOLD LOAN</td>\n",
       "      <td>6,00,000</td>\n",
       "      <td>7</td>\n",
       "      <td>11,000</td>\n",
       "      <td>0</td>\n",
       "      <td>4</td>\n",
       "    </tr>\n",
       "    <tr>\n",
       "      <th>4</th>\n",
       "      <td>IB14022</td>\n",
       "      <td>34</td>\n",
       "      <td>MALE</td>\n",
       "      <td>POLICE</td>\n",
       "      <td>SINGLE</td>\n",
       "      <td>4</td>\n",
       "      <td>43521</td>\n",
       "      <td>11999</td>\n",
       "      <td>3</td>\n",
       "      <td>AUTOMOBILE</td>\n",
       "      <td>2,00,000</td>\n",
       "      <td>2</td>\n",
       "      <td>43,898</td>\n",
       "      <td>1</td>\n",
       "      <td>2</td>\n",
       "    </tr>\n",
       "  </tbody>\n",
       "</table>\n",
       "</div>"
      ],
      "text/plain": [
       "  Customer_ID  Age  Gender    Occupation Marital Status  Family Size  Income  Expenditure  Use Frequency Loan Category  Loan Amount  Overdue  Debt Record   Returned Cheque   Dishonour of Bill\n",
       "0     IB14001   30    MALE  BANK MANAGER         SINGLE            4   50000        22199              6       HOUSING   10,00,000         5       42,898                 6                   9\n",
       "1     IB14008   44    MALE     PROFESSOR        MARRIED            6   51000        19999              4      SHOPPING       50,000        3       33,999                 1                   5\n",
       "2     IB14012   30  FEMALE       DENTIST         SINGLE            3   58450        27675              5    TRAVELLING       75,000        6       20,876                 3                   1\n",
       "3     IB14018   29    MALE       TEACHER        MARRIED            5   45767        12787              3     GOLD LOAN    6,00,000         7       11,000                 0                   4\n",
       "4     IB14022   34    MALE        POLICE         SINGLE            4   43521        11999              3    AUTOMOBILE    2,00,000         2       43,898                 1                   2"
      ]
     },
     "execution_count": 4,
     "metadata": {},
     "output_type": "execute_result"
    }
   ],
   "source": [
    "df = ps.read_csv(\"/workspaces/DE-Project-Repo-Durga/data/loan.csv\")\n",
    "df.head()\n",
    "\n"
   ]
  },
  {
   "cell_type": "code",
   "execution_count": 5,
   "metadata": {},
   "outputs": [
    {
     "data": {
      "text/plain": [
       "Customer_ID           object\n",
       "Age                    int32\n",
       "Gender                object\n",
       "Occupation            object\n",
       "Marital Status        object\n",
       "Family Size            int32\n",
       "Income                 int32\n",
       "Expenditure            int32\n",
       "Use Frequency          int32\n",
       "Loan Category         object\n",
       "Loan Amount           object\n",
       "Overdue                int32\n",
       " Debt Record          object\n",
       " Returned Cheque       int32\n",
       " Dishonour of Bill     int32\n",
       "dtype: object"
      ]
     },
     "execution_count": 5,
     "metadata": {},
     "output_type": "execute_result"
    }
   ],
   "source": [
    "df.dtypes"
   ]
  },
  {
   "cell_type": "code",
   "execution_count": 1,
   "metadata": {},
   "outputs": [
    {
     "name": "stdout",
     "output_type": "stream",
     "text": [
      "22/09/17 23:24:16 WARN Utils: Your hostname, codespaces-a3c1af resolves to a loopback address: 127.0.0.1; using 172.16.5.4 instead (on interface eth0)\n",
      "22/09/17 23:24:16 WARN Utils: Set SPARK_LOCAL_IP if you need to bind to another address\n"
     ]
    },
    {
     "name": "stderr",
     "output_type": "stream",
     "text": [
      "Setting default log level to \"WARN\".\n",
      "To adjust logging level use sc.setLogLevel(newLevel). For SparkR, use setLogLevel(newLevel).\n"
     ]
    },
    {
     "name": "stdout",
     "output_type": "stream",
     "text": [
      "22/09/17 23:24:17 WARN NativeCodeLoader: Unable to load native-hadoop library for your platform... using builtin-java classes where applicable\n"
     ]
    }
   ],
   "source": [
    "from pyspark.sql import SparkSession\n",
    "spark = SparkSession.builder.getOrCreate()\n",
    "\n"
   ]
  },
  {
   "cell_type": "code",
   "execution_count": 6,
   "metadata": {},
   "outputs": [
    {
     "ename": "ModuleNotFoundError",
     "evalue": "No module named 'databricks'",
     "output_type": "error",
     "traceback": [
      "\u001b[0;31m---------------------------------------------------------------------------\u001b[0m",
      "\u001b[0;31mModuleNotFoundError\u001b[0m                       Traceback (most recent call last)",
      "Cell \u001b[0;32mIn [6], line 2\u001b[0m\n\u001b[1;32m      1\u001b[0m \u001b[38;5;28;01mimport\u001b[39;00m \u001b[38;5;21;01mos\u001b[39;00m\n\u001b[0;32m----> 2\u001b[0m \u001b[38;5;28;01mfrom\u001b[39;00m \u001b[38;5;21;01mdatabricks\u001b[39;00m \u001b[38;5;28;01mimport\u001b[39;00m sql\n\u001b[1;32m      3\u001b[0m query\u001b[38;5;241m=\u001b[39m\u001b[38;5;124m\"\u001b[39m\u001b[38;5;124mSELECT * FROM default.diamonds LIMIT 2\u001b[39m\u001b[38;5;124m\"\u001b[39m\n",
      "\u001b[0;31mModuleNotFoundError\u001b[0m: No module named 'databricks'"
     ]
    }
   ],
   "source": []
  },
  {
   "cell_type": "code",
   "execution_count": null,
   "metadata": {},
   "outputs": [],
   "source": []
  }
 ],
 "metadata": {
  "kernelspec": {
   "display_name": "Python 3.10.6 64-bit",
   "language": "python",
   "name": "python3"
  },
  "language_info": {
   "codemirror_mode": {
    "name": "ipython",
    "version": 3
   },
   "file_extension": ".py",
   "mimetype": "text/x-python",
   "name": "python",
   "nbconvert_exporter": "python",
   "pygments_lexer": "ipython3",
   "version": "3.10.6"
  },
  "orig_nbformat": 4,
  "vscode": {
   "interpreter": {
    "hash": "949777d72b0d2535278d3dc13498b2535136f6dfe0678499012e853ee9abcab1"
   }
  }
 },
 "nbformat": 4,
 "nbformat_minor": 2
}
