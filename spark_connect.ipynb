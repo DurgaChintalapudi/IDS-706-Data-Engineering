{
 "cells": [
  {
   "cell_type": "code",
   "execution_count": null,
   "metadata": {},
   "outputs": [],
   "source": [
    "import pyspark\n",
    "from pyspark.sql import SparkSession\n",
    "spark = SparkSession.builder.getOrCreate()\n",
    "from pyspark.sql.functions import *"
   ]
  },
  {
   "cell_type": "code",
   "execution_count": null,
   "metadata": {},
   "outputs": [],
   "source": [
    "df = spark.read.csv(\"/workspaces/DE-Project-Repo-Durga/data/loan.csv\", inferSchema = True, header = True)\n",
    "df.printSchema()"
   ]
  },
  {
   "cell_type": "code",
   "execution_count": null,
   "metadata": {},
   "outputs": [],
   "source": [
    "import pyarrow as pa\n",
    "import pyspark.pandas as ps"
   ]
  },
  {
   "cell_type": "code",
   "execution_count": 10,
   "metadata": {},
   "outputs": [
    {
     "data": {
      "text/html": [
       "<div>\n",
       "<style scoped>\n",
       "    .dataframe tbody tr th:only-of-type {\n",
       "        vertical-align: middle;\n",
       "    }\n",
       "\n",
       "    .dataframe tbody tr th {\n",
       "        vertical-align: top;\n",
       "    }\n",
       "\n",
       "    .dataframe thead th {\n",
       "        text-align: right;\n",
       "    }\n",
       "</style>\n",
       "<table border=\"1\" class=\"dataframe\">\n",
       "  <thead>\n",
       "    <tr style=\"text-align: right;\">\n",
       "      <th></th>\n",
       "      <th>Customer_ID</th>\n",
       "      <th>Age</th>\n",
       "      <th>Gender</th>\n",
       "      <th>Occupation</th>\n",
       "      <th>Marital Status</th>\n",
       "      <th>Family Size</th>\n",
       "      <th>Income</th>\n",
       "      <th>Expenditure</th>\n",
       "      <th>Use Frequency</th>\n",
       "      <th>Loan Category</th>\n",
       "      <th>Loan Amount</th>\n",
       "      <th>Overdue</th>\n",
       "      <th>Debt Record</th>\n",
       "      <th>Returned Cheque</th>\n",
       "      <th>Dishonour of Bill</th>\n",
       "    </tr>\n",
       "  </thead>\n",
       "  <tbody>\n",
       "    <tr>\n",
       "      <th>0</th>\n",
       "      <td>IB14001</td>\n",
       "      <td>30</td>\n",
       "      <td>MALE</td>\n",
       "      <td>BANK MANAGER</td>\n",
       "      <td>SINGLE</td>\n",
       "      <td>4</td>\n",
       "      <td>50000</td>\n",
       "      <td>22199</td>\n",
       "      <td>6</td>\n",
       "      <td>HOUSING</td>\n",
       "      <td>10,00,000</td>\n",
       "      <td>5</td>\n",
       "      <td>42,898</td>\n",
       "      <td>6</td>\n",
       "      <td>9</td>\n",
       "    </tr>\n",
       "    <tr>\n",
       "      <th>1</th>\n",
       "      <td>IB14008</td>\n",
       "      <td>44</td>\n",
       "      <td>MALE</td>\n",
       "      <td>PROFESSOR</td>\n",
       "      <td>MARRIED</td>\n",
       "      <td>6</td>\n",
       "      <td>51000</td>\n",
       "      <td>19999</td>\n",
       "      <td>4</td>\n",
       "      <td>SHOPPING</td>\n",
       "      <td>50,000</td>\n",
       "      <td>3</td>\n",
       "      <td>33,999</td>\n",
       "      <td>1</td>\n",
       "      <td>5</td>\n",
       "    </tr>\n",
       "    <tr>\n",
       "      <th>2</th>\n",
       "      <td>IB14012</td>\n",
       "      <td>30</td>\n",
       "      <td>FEMALE</td>\n",
       "      <td>DENTIST</td>\n",
       "      <td>SINGLE</td>\n",
       "      <td>3</td>\n",
       "      <td>58450</td>\n",
       "      <td>27675</td>\n",
       "      <td>5</td>\n",
       "      <td>TRAVELLING</td>\n",
       "      <td>75,000</td>\n",
       "      <td>6</td>\n",
       "      <td>20,876</td>\n",
       "      <td>3</td>\n",
       "      <td>1</td>\n",
       "    </tr>\n",
       "    <tr>\n",
       "      <th>3</th>\n",
       "      <td>IB14018</td>\n",
       "      <td>29</td>\n",
       "      <td>MALE</td>\n",
       "      <td>TEACHER</td>\n",
       "      <td>MARRIED</td>\n",
       "      <td>5</td>\n",
       "      <td>45767</td>\n",
       "      <td>12787</td>\n",
       "      <td>3</td>\n",
       "      <td>GOLD LOAN</td>\n",
       "      <td>6,00,000</td>\n",
       "      <td>7</td>\n",
       "      <td>11,000</td>\n",
       "      <td>0</td>\n",
       "      <td>4</td>\n",
       "    </tr>\n",
       "    <tr>\n",
       "      <th>4</th>\n",
       "      <td>IB14022</td>\n",
       "      <td>34</td>\n",
       "      <td>MALE</td>\n",
       "      <td>POLICE</td>\n",
       "      <td>SINGLE</td>\n",
       "      <td>4</td>\n",
       "      <td>43521</td>\n",
       "      <td>11999</td>\n",
       "      <td>3</td>\n",
       "      <td>AUTOMOBILE</td>\n",
       "      <td>2,00,000</td>\n",
       "      <td>2</td>\n",
       "      <td>43,898</td>\n",
       "      <td>1</td>\n",
       "      <td>2</td>\n",
       "    </tr>\n",
       "  </tbody>\n",
       "</table>\n",
       "</div>"
      ],
      "text/plain": [
       "  Customer_ID  Age  Gender    Occupation Marital Status  Family Size  Income  Expenditure  Use Frequency Loan Category  Loan Amount  Overdue  Debt Record   Returned Cheque   Dishonour of Bill\n",
       "0     IB14001   30    MALE  BANK MANAGER         SINGLE            4   50000        22199              6       HOUSING   10,00,000         5       42,898                 6                   9\n",
       "1     IB14008   44    MALE     PROFESSOR        MARRIED            6   51000        19999              4      SHOPPING       50,000        3       33,999                 1                   5\n",
       "2     IB14012   30  FEMALE       DENTIST         SINGLE            3   58450        27675              5    TRAVELLING       75,000        6       20,876                 3                   1\n",
       "3     IB14018   29    MALE       TEACHER        MARRIED            5   45767        12787              3     GOLD LOAN    6,00,000         7       11,000                 0                   4\n",
       "4     IB14022   34    MALE        POLICE         SINGLE            4   43521        11999              3    AUTOMOBILE    2,00,000         2       43,898                 1                   2"
      ]
     },
     "execution_count": 10,
     "metadata": {},
     "output_type": "execute_result"
    }
   ],
   "source": [
    "df = ps.read_csv(\"/workspaces/DE-Project-Repo-Durga/data/loan.csv\")\n",
    "df.head()\n",
    "\n"
   ]
  },
  {
   "cell_type": "code",
   "execution_count": 11,
   "metadata": {},
   "outputs": [
    {
     "data": {
      "text/plain": [
       "Customer_ID           object\n",
       "Age                    int32\n",
       "Gender                object\n",
       "Occupation            object\n",
       "Marital Status        object\n",
       "Family Size            int32\n",
       "Income                 int32\n",
       "Expenditure            int32\n",
       "Use Frequency          int32\n",
       "Loan Category         object\n",
       "Loan Amount           object\n",
       "Overdue                int32\n",
       " Debt Record          object\n",
       " Returned Cheque       int32\n",
       " Dishonour of Bill     int32\n",
       "dtype: object"
      ]
     },
     "execution_count": 11,
     "metadata": {},
     "output_type": "execute_result"
    }
   ],
   "source": [
    "df.dtypes"
   ]
  }
 ],
 "metadata": {
  "kernelspec": {
   "display_name": "Python 3.10.6 64-bit",
   "language": "python",
   "name": "python3"
  },
  "language_info": {
   "codemirror_mode": {
    "name": "ipython",
    "version": 3
   },
   "file_extension": ".py",
   "mimetype": "text/x-python",
   "name": "python",
   "nbconvert_exporter": "python",
   "pygments_lexer": "ipython3",
   "version": "3.10.6"
  },
  "orig_nbformat": 4,
  "vscode": {
   "interpreter": {
    "hash": "949777d72b0d2535278d3dc13498b2535136f6dfe0678499012e853ee9abcab1"
   }
  }
 },
 "nbformat": 4,
 "nbformat_minor": 2
}
